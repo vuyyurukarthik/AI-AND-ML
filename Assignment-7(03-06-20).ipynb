{
 "cells": [
  {
   "cell_type": "markdown",
   "metadata": {},
   "source": [
    "# CSE-221710301019-PRASAD REDDY\n"
   ]
  },
  {
   "cell_type": "markdown",
   "metadata": {},
   "source": [
    "```1.Print the contents of a file line by line putting a line number for each line.``` "
   ]
  },
  {
   "cell_type": "code",
   "execution_count": 13,
   "metadata": {},
   "outputs": [
    {
     "name": "stdout",
     "output_type": "stream",
     "text": [
      "1 .  Sun rises in the east.\n",
      "\n",
      "2 .  All thet glitters is not gold.\n",
      "\n",
      "3 .  Time and tide waits for none.\n",
      "\n",
      "4 .  Failures are stepping stones to success.\n",
      "\n",
      "5 .  Empty vessels make much noise.\n"
     ]
    }
   ],
   "source": [
    "with open(\"sample.txt\",\"r\") as f:\n",
    "    i=1\n",
    "    for line in f:\n",
    "        print(i,\". \",line)\n",
    "        i+=1"
   ]
  },
  {
   "cell_type": "markdown",
   "metadata": {},
   "source": [
    "```2.  Copy the contents of a text file into another, printing the reversed version of each input line```"
   ]
  },
  {
   "cell_type": "code",
   "execution_count": 12,
   "metadata": {},
   "outputs": [],
   "source": [
    "with open(\"sample.txt\",\"r\") as f:\n",
    "    with open(\"sample1.txt\",\"w\") as f1:     #copying contents\n",
    "        for line in f:\n",
    "            f1.write(line)"
   ]
  },
  {
   "cell_type": "code",
   "execution_count": 13,
   "metadata": {},
   "outputs": [
    {
     "name": "stdout",
     "output_type": "stream",
     "text": [
      "\n",
      ".tsae eht ni sesir nuS\n",
      "\n",
      ".dlog ton si srettilg teht llA\n",
      "\n",
      ".enon rof stiaw edit dna emiT\n",
      "\n",
      ".sseccus ot senots gnippets era seruliaF\n",
      ".esion hcum ekam slessev ytpmE\n"
     ]
    }
   ],
   "source": [
    " with open(\"sample1.txt\",\"r\") as f1:\n",
    "        for line in f1:                    #displaying contents in reverse order\n",
    "            print(line[::-1])"
   ]
  },
  {
   "cell_type": "markdown",
   "metadata": {},
   "source": [
    "```3. Function to find duplicates in lists```"
   ]
  },
  {
   "cell_type": "code",
   "execution_count": 27,
   "metadata": {},
   "outputs": [
    {
     "name": "stdout",
     "output_type": "stream",
     "text": [
      "True\n",
      "[1, 2, 3, 4]\n"
     ]
    }
   ],
   "source": [
    "def duplicate(l):\n",
    "    for i in l:\n",
    "        if(l.count(i)>1):\n",
    "            return True\n",
    "            break\n",
    "        else:\n",
    "            continue\n",
    "    return False\n",
    "def removed(f):\n",
    "    for i in l:\n",
    "        if i not in li:\n",
    "            li.append(i)\n",
    "    return li\n",
    "l = [1,2,3,4,2]\n",
    "li= []\n",
    "f = (duplicate(l))\n",
    "print(f)\n",
    "if(f == True):\n",
    "    print(removed(l))"
   ]
  },
  {
   "cell_type": "markdown",
   "metadata": {},
   "source": [
    "```4. Develop a package for fractions. Develop a module that performs operations on fractions. It should have methods to create fractions, perform operations on two fractions, simplify a fraction, and print a fraction. You should use that package and illustrate those operations.```"
   ]
  },
  {
   "cell_type": "code",
   "execution_count": 2,
   "metadata": {},
   "outputs": [
    {
     "name": "stdout",
     "output_type": "stream",
     "text": [
      "Fraction is:  0.5\n",
      "Addition is:  1.25\n",
      "substraction is:  -0.25\n",
      "Multiplication is:  0.375\n",
      "Division is:  0.6666666666666666\n"
     ]
    }
   ],
   "source": [
    "import fractions as f\n",
    "f.fracdis(10,20)\n",
    "f.add(10,20,30,40)\n",
    "f.sub(10,20,30,40)      # user defined module fraction\n",
    "f.mul(10,20,30,40)\n",
    "f.div(10,20,30,40)"
   ]
  },
  {
   "cell_type": "markdown",
   "metadata": {},
   "source": [
    "```5. A permutation of a list is another list with the same elements, but in a possibly different order. For example, [1,2,1]         is a permutation of [2,1,1], but not of [1,2,2]. Write a functionisPermutation (list1, list2): boolthat returns True if         its arguments are permutations of each other.```"
   ]
  },
  {
   "cell_type": "code",
   "execution_count": 5,
   "metadata": {},
   "outputs": [
    {
     "name": "stdout",
     "output_type": "stream",
     "text": [
      "True\n"
     ]
    }
   ],
   "source": [
    "def ispermutation(l1,l2):\n",
    "    sum1 = sum(l1)\n",
    "    sum2 = sum(l2)\n",
    "    if sum1 == sum2:\n",
    "        return True\n",
    "    else:\n",
    "        return False\n",
    "l1 = [1,2,1]\n",
    "l2 = [1,1,2]\n",
    "print(ispermutation(l1,l2))"
   ]
  }
 ],
 "metadata": {
  "kernelspec": {
   "display_name": "Python 3",
   "language": "python",
   "name": "python3"
  },
  "language_info": {
   "codemirror_mode": {
    "name": "ipython",
    "version": 3
   },
   "file_extension": ".py",
   "mimetype": "text/x-python",
   "name": "python",
   "nbconvert_exporter": "python",
   "pygments_lexer": "ipython3",
   "version": "3.7.4"
  }
 },
 "nbformat": 4,
 "nbformat_minor": 2
}
